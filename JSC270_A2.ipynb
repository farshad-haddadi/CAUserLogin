{
  "nbformat": 4,
  "nbformat_minor": 0,
  "metadata": {
    "colab": {
      "provenance": [],
      "include_colab_link": true
    },
    "kernelspec": {
      "name": "python3",
      "display_name": "Python 3"
    },
    "language_info": {
      "name": "python"
    }
  },
  "cells": [
    {
      "cell_type": "markdown",
      "metadata": {
        "id": "view-in-github",
        "colab_type": "text"
      },
      "source": [
        "<a href=\"https://colab.research.google.com/github/farshad-haddadi/CAUserLogin/blob/main/JSC270_A2.ipynb\" target=\"_parent\"><img src=\"https://colab.research.google.com/assets/colab-badge.svg\" alt=\"Open In Colab\"/></a>"
      ]
    },
    {
      "cell_type": "markdown",
      "source": [
        "Assignment 2  "
      ],
      "metadata": {
        "id": "WyjHaXDRmK2-"
      }
    },
    {
      "cell_type": "markdown",
      "source": [
        "PART II - Data Analysis\n",
        "**Initial data exploration**"
      ],
      "metadata": {
        "id": "SM77qqK0mMJY"
      }
    },
    {
      "cell_type": "markdown",
      "source": [
        "1. Check the columns of your data. Are they the expected data types based on their descriptions in this text file description of the data?\n",
        "\n"
      ],
      "metadata": {
        "id": "GN2u8qASmXup"
      }
    },
    {
      "cell_type": "markdown",
      "source": [
        "Answer Q1 :\n",
        "The data types in adult.data align with the expected types in the dataset description.\n"
      ],
      "metadata": {
        "id": "7DNGyHKMofZL"
      }
    },
    {
      "cell_type": "markdown",
      "source": [
        "2. How are missing values represented in this data? Cast missing values to np.nan, if necessary. Count the number of missing values in each column."
      ],
      "metadata": {
        "id": "Z9asWbhupSmU"
      }
    },
    {
      "cell_type": "markdown",
      "source": [],
      "metadata": {
        "id": "qmC20oMfGcIa"
      }
    },
    {
      "cell_type": "code",
      "source": [
        "from google.colab import files\n",
        "uploaded = files.upload()\n"
      ],
      "metadata": {
        "id": "SgrbIixcp28a",
        "outputId": "3c9a41aa-effd-4bc0-95be-357a2a2b802a",
        "colab": {
          "base_uri": "https://localhost:8080/",
          "height": 73
        }
      },
      "execution_count": null,
      "outputs": [
        {
          "output_type": "display_data",
          "data": {
            "text/plain": [
              "<IPython.core.display.HTML object>"
            ],
            "text/html": [
              "\n",
              "     <input type=\"file\" id=\"files-3bb8f88b-8914-4a77-909d-1f61284f30cd\" name=\"files[]\" multiple disabled\n",
              "        style=\"border:none\" />\n",
              "     <output id=\"result-3bb8f88b-8914-4a77-909d-1f61284f30cd\">\n",
              "      Upload widget is only available when the cell has been executed in the\n",
              "      current browser session. Please rerun this cell to enable.\n",
              "      </output>\n",
              "      <script>// Copyright 2017 Google LLC\n",
              "//\n",
              "// Licensed under the Apache License, Version 2.0 (the \"License\");\n",
              "// you may not use this file except in compliance with the License.\n",
              "// You may obtain a copy of the License at\n",
              "//\n",
              "//      http://www.apache.org/licenses/LICENSE-2.0\n",
              "//\n",
              "// Unless required by applicable law or agreed to in writing, software\n",
              "// distributed under the License is distributed on an \"AS IS\" BASIS,\n",
              "// WITHOUT WARRANTIES OR CONDITIONS OF ANY KIND, either express or implied.\n",
              "// See the License for the specific language governing permissions and\n",
              "// limitations under the License.\n",
              "\n",
              "/**\n",
              " * @fileoverview Helpers for google.colab Python module.\n",
              " */\n",
              "(function(scope) {\n",
              "function span(text, styleAttributes = {}) {\n",
              "  const element = document.createElement('span');\n",
              "  element.textContent = text;\n",
              "  for (const key of Object.keys(styleAttributes)) {\n",
              "    element.style[key] = styleAttributes[key];\n",
              "  }\n",
              "  return element;\n",
              "}\n",
              "\n",
              "// Max number of bytes which will be uploaded at a time.\n",
              "const MAX_PAYLOAD_SIZE = 100 * 1024;\n",
              "\n",
              "function _uploadFiles(inputId, outputId) {\n",
              "  const steps = uploadFilesStep(inputId, outputId);\n",
              "  const outputElement = document.getElementById(outputId);\n",
              "  // Cache steps on the outputElement to make it available for the next call\n",
              "  // to uploadFilesContinue from Python.\n",
              "  outputElement.steps = steps;\n",
              "\n",
              "  return _uploadFilesContinue(outputId);\n",
              "}\n",
              "\n",
              "// This is roughly an async generator (not supported in the browser yet),\n",
              "// where there are multiple asynchronous steps and the Python side is going\n",
              "// to poll for completion of each step.\n",
              "// This uses a Promise to block the python side on completion of each step,\n",
              "// then passes the result of the previous step as the input to the next step.\n",
              "function _uploadFilesContinue(outputId) {\n",
              "  const outputElement = document.getElementById(outputId);\n",
              "  const steps = outputElement.steps;\n",
              "\n",
              "  const next = steps.next(outputElement.lastPromiseValue);\n",
              "  return Promise.resolve(next.value.promise).then((value) => {\n",
              "    // Cache the last promise value to make it available to the next\n",
              "    // step of the generator.\n",
              "    outputElement.lastPromiseValue = value;\n",
              "    return next.value.response;\n",
              "  });\n",
              "}\n",
              "\n",
              "/**\n",
              " * Generator function which is called between each async step of the upload\n",
              " * process.\n",
              " * @param {string} inputId Element ID of the input file picker element.\n",
              " * @param {string} outputId Element ID of the output display.\n",
              " * @return {!Iterable<!Object>} Iterable of next steps.\n",
              " */\n",
              "function* uploadFilesStep(inputId, outputId) {\n",
              "  const inputElement = document.getElementById(inputId);\n",
              "  inputElement.disabled = false;\n",
              "\n",
              "  const outputElement = document.getElementById(outputId);\n",
              "  outputElement.innerHTML = '';\n",
              "\n",
              "  const pickedPromise = new Promise((resolve) => {\n",
              "    inputElement.addEventListener('change', (e) => {\n",
              "      resolve(e.target.files);\n",
              "    });\n",
              "  });\n",
              "\n",
              "  const cancel = document.createElement('button');\n",
              "  inputElement.parentElement.appendChild(cancel);\n",
              "  cancel.textContent = 'Cancel upload';\n",
              "  const cancelPromise = new Promise((resolve) => {\n",
              "    cancel.onclick = () => {\n",
              "      resolve(null);\n",
              "    };\n",
              "  });\n",
              "\n",
              "  // Wait for the user to pick the files.\n",
              "  const files = yield {\n",
              "    promise: Promise.race([pickedPromise, cancelPromise]),\n",
              "    response: {\n",
              "      action: 'starting',\n",
              "    }\n",
              "  };\n",
              "\n",
              "  cancel.remove();\n",
              "\n",
              "  // Disable the input element since further picks are not allowed.\n",
              "  inputElement.disabled = true;\n",
              "\n",
              "  if (!files) {\n",
              "    return {\n",
              "      response: {\n",
              "        action: 'complete',\n",
              "      }\n",
              "    };\n",
              "  }\n",
              "\n",
              "  for (const file of files) {\n",
              "    const li = document.createElement('li');\n",
              "    li.append(span(file.name, {fontWeight: 'bold'}));\n",
              "    li.append(span(\n",
              "        `(${file.type || 'n/a'}) - ${file.size} bytes, ` +\n",
              "        `last modified: ${\n",
              "            file.lastModifiedDate ? file.lastModifiedDate.toLocaleDateString() :\n",
              "                                    'n/a'} - `));\n",
              "    const percent = span('0% done');\n",
              "    li.appendChild(percent);\n",
              "\n",
              "    outputElement.appendChild(li);\n",
              "\n",
              "    const fileDataPromise = new Promise((resolve) => {\n",
              "      const reader = new FileReader();\n",
              "      reader.onload = (e) => {\n",
              "        resolve(e.target.result);\n",
              "      };\n",
              "      reader.readAsArrayBuffer(file);\n",
              "    });\n",
              "    // Wait for the data to be ready.\n",
              "    let fileData = yield {\n",
              "      promise: fileDataPromise,\n",
              "      response: {\n",
              "        action: 'continue',\n",
              "      }\n",
              "    };\n",
              "\n",
              "    // Use a chunked sending to avoid message size limits. See b/62115660.\n",
              "    let position = 0;\n",
              "    do {\n",
              "      const length = Math.min(fileData.byteLength - position, MAX_PAYLOAD_SIZE);\n",
              "      const chunk = new Uint8Array(fileData, position, length);\n",
              "      position += length;\n",
              "\n",
              "      const base64 = btoa(String.fromCharCode.apply(null, chunk));\n",
              "      yield {\n",
              "        response: {\n",
              "          action: 'append',\n",
              "          file: file.name,\n",
              "          data: base64,\n",
              "        },\n",
              "      };\n",
              "\n",
              "      let percentDone = fileData.byteLength === 0 ?\n",
              "          100 :\n",
              "          Math.round((position / fileData.byteLength) * 100);\n",
              "      percent.textContent = `${percentDone}% done`;\n",
              "\n",
              "    } while (position < fileData.byteLength);\n",
              "  }\n",
              "\n",
              "  // All done.\n",
              "  yield {\n",
              "    response: {\n",
              "      action: 'complete',\n",
              "    }\n",
              "  };\n",
              "}\n",
              "\n",
              "scope.google = scope.google || {};\n",
              "scope.google.colab = scope.google.colab || {};\n",
              "scope.google.colab._files = {\n",
              "  _uploadFiles,\n",
              "  _uploadFilesContinue,\n",
              "};\n",
              "})(self);\n",
              "</script> "
            ]
          },
          "metadata": {}
        },
        {
          "output_type": "stream",
          "name": "stdout",
          "text": [
            "Saving adult.zip to adult.zip\n"
          ]
        }
      ]
    },
    {
      "cell_type": "code",
      "source": [
        "import zipfile\n",
        "import os\n",
        "\n",
        "# Define paths\n",
        "zip_path = \"/content/adult.zip\"  # Adjust if uploaded elsewhere\n",
        "extract_path = \"/content/adult_dataset\"\n",
        "\n",
        "# Extract the zip file\n",
        "with zipfile.ZipFile(zip_path, 'r') as zip_ref:\n",
        "    zip_ref.extractall(extract_path)\n",
        "\n",
        "# List extracted files\n",
        "os.listdir(extract_path)\n"
      ],
      "metadata": {
        "id": "mhNzIwvRrmqA",
        "outputId": "4954b7b5-08a5-4b30-b1e1-a561e191e663",
        "colab": {
          "base_uri": "https://localhost:8080/"
        }
      },
      "execution_count": null,
      "outputs": [
        {
          "output_type": "execute_result",
          "data": {
            "text/plain": [
              "['Index', 'adult.data', 'adult.test', 'old.adult.names', 'adult.names']"
            ]
          },
          "metadata": {},
          "execution_count": 6
        }
      ]
    },
    {
      "cell_type": "code",
      "source": [
        "import pandas as pd\n",
        "import numpy as np\n",
        "\n",
        "# Define the correct file path for Colab\n",
        "file_path = os.path.join(extract_path, \"adult.data\")\n",
        "\n",
        "# Define column names\n",
        "column_names = [\n",
        "    \"age\", \"workclass\", \"fnlwgt\", \"education\", \"education-num\", \"marital-status\",\n",
        "    \"occupation\", \"relationship\", \"race\", \"sex\", \"capital-gain\", \"capital-loss\",\n",
        "    \"hours-per-week\", \"native-country\", \"income\"\n",
        "]\n",
        "\n",
        "# Load the dataset\n",
        "df = pd.read_csv(file_path, names=column_names, sep=\",\\s*\", engine=\"python\")\n",
        "\n",
        "# Replace missing value representations (\"?\") with NaN\n",
        "df.replace([\"?\", \" ?\"], np.nan, inplace=True)\n",
        "\n",
        "# Count missing values in each column\n",
        "missing_counts = df.isnull().sum()\n",
        "\n",
        "# Convert to DataFrame for better readability\n",
        "missing_counts_df = missing_counts.to_frame(name=\"Missing Values\")\n",
        "\n",
        "# Display the missing values count\n",
        "print(missing_counts_df)\n"
      ],
      "metadata": {
        "id": "G72gsYwVrxge",
        "outputId": "5fa9843c-46ed-47bf-be00-5941af83479c",
        "colab": {
          "base_uri": "https://localhost:8080/"
        }
      },
      "execution_count": null,
      "outputs": [
        {
          "output_type": "stream",
          "name": "stdout",
          "text": [
            "                Missing Values\n",
            "age                          0\n",
            "workclass                 1836\n",
            "fnlwgt                       0\n",
            "education                    0\n",
            "education-num                0\n",
            "marital-status               0\n",
            "occupation                1843\n",
            "relationship                 0\n",
            "race                         0\n",
            "sex                          0\n",
            "capital-gain                 0\n",
            "capital-loss                 0\n",
            "hours-per-week               0\n",
            "native-country             583\n",
            "income                       0\n"
          ]
        }
      ]
    },
    {
      "cell_type": "markdown",
      "source": [
        "3. Individually plot the distributions of capital_gain and capital_loss.  Do you think these variables should be transformed to categorical variables? Why or why not? If yes, create a new variable(s) with your suggested transformation and plot or describe in a table the distribution of the new categorical variable(s)."
      ],
      "metadata": {
        "id": "H1LPSrvrsQIB"
      }
    },
    {
      "cell_type": "code",
      "source": [
        "\"\"\"\n",
        "Answer\n",
        "\"\"\"\n",
        "# Step 1: Upload and Extract the Dataset in Colab\n",
        "from google.colab import files\n",
        "import zipfile\n",
        "import os\n",
        "import pandas as pd\n",
        "import numpy as np\n",
        "import matplotlib.pyplot as plt\n",
        "\n",
        "# Upload file manually\n",
        "print(\"Please upload the 'adult.zip' file:\")\n",
        "uploaded = files.upload()\n",
        "\n",
        "# Define paths\n",
        "zip_path = \"/content/adult.zip\"\n",
        "extract_path = \"/content/adult_dataset\"\n",
        "\n",
        "# Extract the zip file\n",
        "with zipfile.ZipFile(zip_path, 'r') as zip_ref:\n",
        "    zip_ref.extractall(extract_path)\n",
        "\n",
        "# Step 2: Load the Dataset\n",
        "file_path = os.path.join(extract_path, \"adult.data\")\n",
        "\n",
        "# Define column names based on dataset description\n",
        "column_names = [\n",
        "    \"age\", \"workclass\", \"fnlwgt\", \"education\", \"education-num\", \"marital-status\",\n",
        "    \"occupation\", \"relationship\", \"race\", \"sex\", \"capital-gain\", \"capital-loss\",\n",
        "    \"hours-per-week\", \"native-country\", \"income\"\n",
        "]\n",
        "\n",
        "# Load the dataset\n",
        "df = pd.read_csv(file_path, names=column_names, sep=\",\\s*\", engine=\"python\")\n",
        "\n",
        "# Replace missing value representations (\"?\") with NaN\n",
        "df.replace([\"?\", \" ?\"], np.nan, inplace=True)\n",
        "\n",
        "# Step 3: Count Missing Values\n",
        "missing_counts = df.isnull().sum()\n",
        "print(\"\\nMissing Values Count:\\n\", missing_counts)\n",
        "\n",
        "# Step 4: Plot Distribution of Capital Gain and Capital Loss\n",
        "plt.figure(figsize=(10, 4))\n",
        "plt.hist(df['capital-gain'].dropna(), bins=50, edgecolor='black', log=True)\n",
        "plt.xlabel(\"Capital Gain\")\n",
        "plt.ylabel(\"Frequency (log scale)\")\n",
        "plt.title(\"Distribution of Capital Gain\")\n",
        "plt.show()\n",
        "\n",
        "plt.figure(figsize=(10, 4))\n",
        "plt.hist(df['capital-loss'].dropna(), bins=50, edgecolor='black', log=True)\n",
        "plt.xlabel(\"Capital Loss\")\n",
        "plt.ylabel(\"Frequency (log scale)\")\n",
        "plt.title(\"Distribution of Capital Loss\")\n",
        "plt.show()\n",
        "\n",
        "# Step 5: Transform Capital Gain and Capital Loss into Categorical Variables\n",
        "gain_bins = [-1, 0, 5000, 20000, df['capital-gain'].max()]\n",
        "gain_labels = ['No Gain', 'Low Gain', 'Medium Gain', 'High Gain']\n",
        "df['capital-gain-category'] = pd.cut(df['capital-gain'], bins=gain_bins, labels=gain_labels)\n",
        "\n",
        "loss_bins = [-1, 0, 1000, 2500, df['capital-loss'].max()]\n",
        "loss_labels = ['No Loss', 'Low Loss', 'Medium Loss', 'High Loss']\n",
        "df['capital-loss-category'] = pd.cut(df['capital-loss'], bins=loss_bins, labels=loss_labels)\n",
        "\n",
        "# Step 6: Count New Categorical Variables and Display Results\n",
        "capital_gain_dist = df['capital-gain-category'].value_counts().sort_index()\n",
        "capital_loss_dist = df['capital-loss-category'].value_counts().sort_index()\n",
        "\n",
        "# Convert to DataFrame for better readability\n",
        "gain_loss_distribution = pd.DataFrame({\n",
        "    \"Capital Gain Categories\": capital_gain_dist,\n",
        "    \"Capital Loss Categories\": capital_loss_dist\n",
        "})\n",
        "\n",
        "print(\"\\nCategorical Capital Gain/Loss Distribution:\\n\", gain_loss_distribution)\n",
        "\n",
        "\n",
        "\n",
        "\n",
        "\n",
        "\n",
        "\n",
        "\n"
      ],
      "metadata": {
        "id": "5VS7111RtFzP",
        "outputId": "98e650c7-4aa0-499f-bcc3-a4a0376eac4f",
        "colab": {
          "base_uri": "https://localhost:8080/",
          "height": 1000
        }
      },
      "execution_count": null,
      "outputs": [
        {
          "output_type": "stream",
          "name": "stdout",
          "text": [
            "Please upload the 'adult.zip' file:\n"
          ]
        },
        {
          "output_type": "display_data",
          "data": {
            "text/plain": [
              "<IPython.core.display.HTML object>"
            ],
            "text/html": [
              "\n",
              "     <input type=\"file\" id=\"files-ea291732-197a-4cbc-b7b1-a725b162f205\" name=\"files[]\" multiple disabled\n",
              "        style=\"border:none\" />\n",
              "     <output id=\"result-ea291732-197a-4cbc-b7b1-a725b162f205\">\n",
              "      Upload widget is only available when the cell has been executed in the\n",
              "      current browser session. Please rerun this cell to enable.\n",
              "      </output>\n",
              "      <script>// Copyright 2017 Google LLC\n",
              "//\n",
              "// Licensed under the Apache License, Version 2.0 (the \"License\");\n",
              "// you may not use this file except in compliance with the License.\n",
              "// You may obtain a copy of the License at\n",
              "//\n",
              "//      http://www.apache.org/licenses/LICENSE-2.0\n",
              "//\n",
              "// Unless required by applicable law or agreed to in writing, software\n",
              "// distributed under the License is distributed on an \"AS IS\" BASIS,\n",
              "// WITHOUT WARRANTIES OR CONDITIONS OF ANY KIND, either express or implied.\n",
              "// See the License for the specific language governing permissions and\n",
              "// limitations under the License.\n",
              "\n",
              "/**\n",
              " * @fileoverview Helpers for google.colab Python module.\n",
              " */\n",
              "(function(scope) {\n",
              "function span(text, styleAttributes = {}) {\n",
              "  const element = document.createElement('span');\n",
              "  element.textContent = text;\n",
              "  for (const key of Object.keys(styleAttributes)) {\n",
              "    element.style[key] = styleAttributes[key];\n",
              "  }\n",
              "  return element;\n",
              "}\n",
              "\n",
              "// Max number of bytes which will be uploaded at a time.\n",
              "const MAX_PAYLOAD_SIZE = 100 * 1024;\n",
              "\n",
              "function _uploadFiles(inputId, outputId) {\n",
              "  const steps = uploadFilesStep(inputId, outputId);\n",
              "  const outputElement = document.getElementById(outputId);\n",
              "  // Cache steps on the outputElement to make it available for the next call\n",
              "  // to uploadFilesContinue from Python.\n",
              "  outputElement.steps = steps;\n",
              "\n",
              "  return _uploadFilesContinue(outputId);\n",
              "}\n",
              "\n",
              "// This is roughly an async generator (not supported in the browser yet),\n",
              "// where there are multiple asynchronous steps and the Python side is going\n",
              "// to poll for completion of each step.\n",
              "// This uses a Promise to block the python side on completion of each step,\n",
              "// then passes the result of the previous step as the input to the next step.\n",
              "function _uploadFilesContinue(outputId) {\n",
              "  const outputElement = document.getElementById(outputId);\n",
              "  const steps = outputElement.steps;\n",
              "\n",
              "  const next = steps.next(outputElement.lastPromiseValue);\n",
              "  return Promise.resolve(next.value.promise).then((value) => {\n",
              "    // Cache the last promise value to make it available to the next\n",
              "    // step of the generator.\n",
              "    outputElement.lastPromiseValue = value;\n",
              "    return next.value.response;\n",
              "  });\n",
              "}\n",
              "\n",
              "/**\n",
              " * Generator function which is called between each async step of the upload\n",
              " * process.\n",
              " * @param {string} inputId Element ID of the input file picker element.\n",
              " * @param {string} outputId Element ID of the output display.\n",
              " * @return {!Iterable<!Object>} Iterable of next steps.\n",
              " */\n",
              "function* uploadFilesStep(inputId, outputId) {\n",
              "  const inputElement = document.getElementById(inputId);\n",
              "  inputElement.disabled = false;\n",
              "\n",
              "  const outputElement = document.getElementById(outputId);\n",
              "  outputElement.innerHTML = '';\n",
              "\n",
              "  const pickedPromise = new Promise((resolve) => {\n",
              "    inputElement.addEventListener('change', (e) => {\n",
              "      resolve(e.target.files);\n",
              "    });\n",
              "  });\n",
              "\n",
              "  const cancel = document.createElement('button');\n",
              "  inputElement.parentElement.appendChild(cancel);\n",
              "  cancel.textContent = 'Cancel upload';\n",
              "  const cancelPromise = new Promise((resolve) => {\n",
              "    cancel.onclick = () => {\n",
              "      resolve(null);\n",
              "    };\n",
              "  });\n",
              "\n",
              "  // Wait for the user to pick the files.\n",
              "  const files = yield {\n",
              "    promise: Promise.race([pickedPromise, cancelPromise]),\n",
              "    response: {\n",
              "      action: 'starting',\n",
              "    }\n",
              "  };\n",
              "\n",
              "  cancel.remove();\n",
              "\n",
              "  // Disable the input element since further picks are not allowed.\n",
              "  inputElement.disabled = true;\n",
              "\n",
              "  if (!files) {\n",
              "    return {\n",
              "      response: {\n",
              "        action: 'complete',\n",
              "      }\n",
              "    };\n",
              "  }\n",
              "\n",
              "  for (const file of files) {\n",
              "    const li = document.createElement('li');\n",
              "    li.append(span(file.name, {fontWeight: 'bold'}));\n",
              "    li.append(span(\n",
              "        `(${file.type || 'n/a'}) - ${file.size} bytes, ` +\n",
              "        `last modified: ${\n",
              "            file.lastModifiedDate ? file.lastModifiedDate.toLocaleDateString() :\n",
              "                                    'n/a'} - `));\n",
              "    const percent = span('0% done');\n",
              "    li.appendChild(percent);\n",
              "\n",
              "    outputElement.appendChild(li);\n",
              "\n",
              "    const fileDataPromise = new Promise((resolve) => {\n",
              "      const reader = new FileReader();\n",
              "      reader.onload = (e) => {\n",
              "        resolve(e.target.result);\n",
              "      };\n",
              "      reader.readAsArrayBuffer(file);\n",
              "    });\n",
              "    // Wait for the data to be ready.\n",
              "    let fileData = yield {\n",
              "      promise: fileDataPromise,\n",
              "      response: {\n",
              "        action: 'continue',\n",
              "      }\n",
              "    };\n",
              "\n",
              "    // Use a chunked sending to avoid message size limits. See b/62115660.\n",
              "    let position = 0;\n",
              "    do {\n",
              "      const length = Math.min(fileData.byteLength - position, MAX_PAYLOAD_SIZE);\n",
              "      const chunk = new Uint8Array(fileData, position, length);\n",
              "      position += length;\n",
              "\n",
              "      const base64 = btoa(String.fromCharCode.apply(null, chunk));\n",
              "      yield {\n",
              "        response: {\n",
              "          action: 'append',\n",
              "          file: file.name,\n",
              "          data: base64,\n",
              "        },\n",
              "      };\n",
              "\n",
              "      let percentDone = fileData.byteLength === 0 ?\n",
              "          100 :\n",
              "          Math.round((position / fileData.byteLength) * 100);\n",
              "      percent.textContent = `${percentDone}% done`;\n",
              "\n",
              "    } while (position < fileData.byteLength);\n",
              "  }\n",
              "\n",
              "  // All done.\n",
              "  yield {\n",
              "    response: {\n",
              "      action: 'complete',\n",
              "    }\n",
              "  };\n",
              "}\n",
              "\n",
              "scope.google = scope.google || {};\n",
              "scope.google.colab = scope.google.colab || {};\n",
              "scope.google.colab._files = {\n",
              "  _uploadFiles,\n",
              "  _uploadFilesContinue,\n",
              "};\n",
              "})(self);\n",
              "</script> "
            ]
          },
          "metadata": {}
        },
        {
          "output_type": "stream",
          "name": "stdout",
          "text": [
            "Saving adult.zip to adult (1).zip\n",
            "\n",
            "Missing Values Count:\n",
            " age                  0\n",
            "workclass         1836\n",
            "fnlwgt               0\n",
            "education            0\n",
            "education-num        0\n",
            "marital-status       0\n",
            "occupation        1843\n",
            "relationship         0\n",
            "race                 0\n",
            "sex                  0\n",
            "capital-gain         0\n",
            "capital-loss         0\n",
            "hours-per-week       0\n",
            "native-country     583\n",
            "income               0\n",
            "dtype: int64\n"
          ]
        },
        {
          "output_type": "display_data",
          "data": {
            "text/plain": [
              "<Figure size 1000x400 with 1 Axes>"
            ],
            "image/png": "[encoded data removed]"
          },
          "metadata": {}
        },
        {
          "output_type": "display_data",
          "data": {
            "text/plain": [
              "<Figure size 1000x400 with 1 Axes>"
            ],
            "image/png": "[encoded data removed]"
          },
          "metadata": {}
        },
        {
          "output_type": "stream",
          "name": "stdout",
          "text": [
            "\n",
            "Categorical Capital Gain/Loss Distribution:\n",
            "              Capital Gain Categories  Capital Loss Categories\n",
            "High Gain                      253.0                      NaN\n",
            "High Loss                        NaN                     44.0\n",
            "Low Gain                      1064.0                      NaN\n",
            "Low Loss                         NaN                     36.0\n",
            "Medium Gain                   1395.0                      NaN\n",
            "Medium Loss                      NaN                   1439.0\n",
            "No Gain                      29849.0                      NaN\n",
            "No Loss                          NaN                  31042.0\n"
          ]
        }
      ]
    },
    {
      "cell_type": "markdown",
      "source": [
        "Yes, capital-gain and capital-loss should be transformed into categorical variables because their distributions are highly skewed, with most values being zero and a small fraction having extreme outliers. Keeping them as continuous variables may introduce noise, hinder interpretability, and lead to overfitting in machine learning models. Categorizing them into groups like \"No Gain\", \"Low Gain\", \"Medium Gain\", and \"High Gain\" provides better insights and improves model performance by reducing sparsity and enhancing pattern recognition.\n",
        "\n",
        "However, if precise numerical values are essential for regression or deep learning models, alternative transformations like log-scaling may be considered. But for most classification and decision-tree-based models, converting these variables into categories is a more effective approach."
      ],
      "metadata": {
        "id": "smcIuhk0uBvw"
      }
    },
    {
      "cell_type": "code",
      "source": [
        "import pandas as pd\n",
        "import numpy as np\n",
        "import matplotlib.pyplot as plt\n",
        "\n",
        "# Define bins and labels for capital gain\n",
        "gain_bins = [-1, 0, 5000, 20000, np.inf]  # Binning based on gain values\n",
        "gain_labels = ['No Gain', 'Low Gain', 'Medium Gain', 'High Gain']\n",
        "df['capital-gain-category'] = pd.cut(df['capital-gain'], bins=gain_bins, labels=gain_labels)\n",
        "\n",
        "# Define bins and labels for capital loss\n",
        "loss_bins = [-1, 0, 1000, 2500, np.inf]  # Binning based on loss values\n",
        "loss_labels = ['No Loss', 'Low Loss', 'Medium Loss', 'High Loss']\n",
        "df['capital-loss-category'] = pd.cut(df['capital-loss'], bins=loss_bins, labels=loss_labels)\n",
        "\n",
        "# Generate log-scale bar charts for better visibility\n",
        "plt.figure(figsize=(10, 5))\n",
        "df['capital-gain-category'].value_counts().sort_index().plot(kind='bar', edgecolor='black', log=True)\n",
        "plt.xlabel(\"Capital Gain Categories\")\n",
        "plt.ylabel(\"Count (Log Scale)\")\n",
        "plt.title(\"Distribution of Capital Gain Categories (Log Scale)\")\n",
        "plt.xticks(rotation=45)\n",
        "plt.show()\n",
        "\n",
        "plt.figure(figsize=(10, 5))\n",
        "df['capital-loss-category'].value_counts().sort_index().plot(kind='bar', edgecolor='black', log=True)\n",
        "plt.xlabel(\"Capital Loss Categories\")\n",
        "plt.ylabel(\"Count (Log Scale)\")\n",
        "plt.title(\"Distribution of Capital Loss Categories (Log Scale)\")\n",
        "plt.xticks(rotation=45)\n",
        "plt.show()\n"
      ],
      "metadata": {
        "id": "E4AzyH_RwgzG",
        "outputId": "55417e60-3bdd-4c41-fa99-e8a33d57dc71",
        "colab": {
          "base_uri": "https://localhost:8080/",
          "height": 1000
        }
      },
      "execution_count": null,
      "outputs": [
        {
          "output_type": "display_data",
          "data": {
            "text/plain": [
              "<Figure size 1000x500 with 1 Axes>"
            ],
            "image/png": "[encoded data removed]"
          },
          "metadata": {}
        },
        {
          "output_type": "display_data",
          "data": {
            "text/plain": [
              "<Figure size 1000x500 with 1 Axes>"
            ],
            "image/png": "[encoded data removed]"
          },
          "metadata": {}
        }
      ]
    },
    {
      "cell_type": "markdown",
      "source": [
        "The initial histograms of capital-gain and capital-loss showed extreme skewness, with most values being zero and a few high values. In order to be more visible log scale has been used."
      ],
      "metadata": {
        "id": "5Lb5FCv3xA7G"
      }
    },
    {
      "cell_type": "markdown",
      "source": [
        "4. The sampling weights in the dataset are contained in the variable fnlwgt. The weights indicate the share of the population that sample represents based on location (and sometimes, other factors).  More information is provided in  this text file description of the data.\n",
        "Plot or numerically explore the distribution of fnlwgt. Is the variable symmetrically distributed? Compare the distribution of this variable between men and women and comment on any trends you notice. Should outliers be excluded? If you think yes, set the fnlwgt values for those you deem to be outliers as missing for the remainder of your analyses.\n"
      ],
      "metadata": {
        "id": "e0HhIX1_yAzy"
      }
    },
    {
      "cell_type": "code",
      "source": [
        "import pandas as pd\n",
        "import numpy as np\n",
        "import matplotlib.pyplot as plt\n",
        "\n",
        "# Plot the distribution of fnlwgt\n",
        "plt.figure(figsize=(10, 5))\n",
        "plt.hist(df['fnlwgt'], bins=50, edgecolor='black')\n",
        "plt.xlabel(\"Final Weight (fnlwgt)\")\n",
        "plt.ylabel(\"Frequency\")\n",
        "plt.title(\"Distribution of fnlwgt\")\n",
        "plt.show()\n",
        "\n",
        "# Summary statistics of fnlwgt\n",
        "fnlwgt_summary = df['fnlwgt'].describe()\n",
        "print(\"\\nSummary Statistics of fnlwgt:\\n\", fnlwgt_summary)\n",
        "\n",
        "# Compare the distribution of fnlwgt between men and women\n",
        "plt.figure(figsize=(10, 5))\n",
        "df.groupby(\"sex\")['fnlwgt'].plot(kind='hist', bins=50, alpha=0.5, legend=True, edgecolor='black')\n",
        "plt.xlabel(\"Final Weight (fnlwgt)\")\n",
        "plt.ylabel(\"Frequency\")\n",
        "plt.title(\"Comparison of fnlwgt Distribution Between Men and Women\")\n",
        "plt.show()\n",
        "\n",
        "# Detect outliers using the IQR method\n",
        "Q1 = df['fnlwgt'].quantile(0.25)\n",
        "Q3 = df['fnlwgt'].quantile(0.75)\n",
        "IQR = Q3 - Q1\n",
        "\n",
        "# Define outlier threshold\n",
        "lower_bound = Q1 - 1.5 * IQR\n",
        "upper_bound = Q3 + 1.5 * IQR\n",
        "\n",
        "# Count the number of outliers\n",
        "outliers_count = ((df['fnlwgt'] < lower_bound) | (df['fnlwgt'] > upper_bound)).sum()\n",
        "print(\"\\nNumber of Outliers Detected:\", outliers_count)\n",
        "\n",
        "# Set outliers as missing values (NaN)\n",
        "df.loc[(df['fnlwgt'] < lower_bound) | (df['fnlwgt'] > upper_bound), 'fnlwgt'] = np.nan\n",
        "\n",
        "# Display the updated summary statistics\n",
        "updated_fnlwgt_summary = df['fnlwgt'].describe()\n",
        "print(\"\\nUpdated Summary Statistics of fnlwgt (After Removing Outliers):\\n\", updated_fnlwgt_summary)\n"
      ],
      "metadata": {
        "id": "6ksitwVu1b3t",
        "outputId": "567501a6-64e9-4228-be3f-f5c0faa9ab37",
        "colab": {
          "base_uri": "https://localhost:8080/",
          "height": 1000
        }
      },
      "execution_count": null,
      "outputs": [
        {
          "output_type": "display_data",
          "data": {
            "text/plain": [
              "<Figure size 1000x500 with 1 Axes>"
            ],
            "image/png": "[encoded data removed]"
          },
          "metadata": {}
        },
        {
          "output_type": "stream",
          "name": "stdout",
          "text": [
            "\n",
            "Summary Statistics of fnlwgt:\n",
            " count    3.256100e+04\n",
            "mean     1.897784e+05\n",
            "std      1.055500e+05\n",
            "min      1.228500e+04\n",
            "25%      1.178270e+05\n",
            "50%      1.783560e+05\n",
            "75%      2.370510e+05\n",
            "max      1.484705e+06\n",
            "Name: fnlwgt, dtype: float64\n"
          ]
        },
        {
          "output_type": "display_data",
          "data": {
            "text/plain": [
              "<Figure size 1000x500 with 1 Axes>"
            ],
            "image/png": "[encoded data removed]"
          },
          "metadata": {}
        },
        {
          "output_type": "stream",
          "name": "stdout",
          "text": [
            "\n",
            "Number of Outliers Detected: 992\n",
            "\n",
            "Updated Summary Statistics of fnlwgt (After Removing Outliers):\n",
            " count     31569.00000\n",
            "mean     179631.33913\n",
            "std       87369.69144\n",
            "min       12285.00000\n",
            "25%      116508.00000\n",
            "50%      175935.00000\n",
            "75%      228570.00000\n",
            "max      415847.00000\n",
            "Name: fnlwgt, dtype: float64\n"
          ]
        }
      ]
    },
    {
      "cell_type": "markdown",
      "source": [
        "The fnlwgt (final weight) variable is not symmetrically distributed, as seen from the histogram. It exhibits a right-skewed distribution, meaning most values are concentrated at lower values while a few extremely high values extend the tail. This suggests that fnlwgt is not normally distributed.\n",
        "\n",
        "When comparing men and women, the distribution of fnlwgt is similar, but men tend to have slightly higher fnlwgt values on average. This could indicate that, in the sampling process, men are assigned higher weights due to demographic representation.\n",
        "\n",
        "To handle outliers, we used the IQR (Interquartile Range) method, which identified 992 extreme values. These were set to NaN for cleaner analysis. Outliers should be excluded because they can distort summary statistics and bias models that assume normally distributed data.\n",
        "\n",
        "By removing outliers, we ensure that the dataset better represents the general population without being affected by extreme sampling weights."
      ],
      "metadata": {
        "id": "PE-rH9T911Si"
      }
    },
    {
      "cell_type": "markdown",
      "source": [
        "**Correlation.**"
      ],
      "metadata": {
        "id": "1he34dg63S2m"
      }
    },
    {
      "cell_type": "markdown",
      "source": [
        "Find the correlations between age, education_num, and hours_per_week.\n",
        "\n",
        "\n",
        "a. Do any of the variables appear to be correlated? How did you make your assessment?\n",
        "\n",
        "b. Statistically test any variable pairs with a correlation coefficient > |0.1| for its difference from 0 and report your result. Is the direction and significance of your finding as expected?\n",
        "\n",
        "c. How does the correlation (and its significance) between education_num and age compare between male and female participants? Is this expected?\n",
        "\n",
        "d. Compute the covariance matrix for education_num and hours_per_week. What conclusions can you draw from the covariance matrix?"
      ],
      "metadata": {
        "id": "6_9PZwSj3cnw"
      }
    },
    {
      "cell_type": "code",
      "source": [
        "import pandas as pd\n",
        "import numpy as np\n",
        "import matplotlib.pyplot as plt\n",
        "import scipy.stats as stats\n",
        "\n",
        "# Part A: Compute Correlation Matrix\n",
        "correlation_matrix = df[['age', 'education-num', 'hours-per-week']].corr()\n",
        "print(\"\\nCorrelation Matrix:\\n\", correlation_matrix)\n",
        "\n",
        "# Part B: Identify and Statistically Test Correlations > |0.1|\n",
        "correlated_pairs = correlation_matrix.unstack().reset_index()\n",
        "correlated_pairs.columns = ['Variable 1', 'Variable 2', 'Correlation']\n",
        "correlated_pairs = correlated_pairs[correlated_pairs['Variable 1'] != correlated_pairs['Variable 2']]\n",
        "correlated_pairs = correlated_pairs[correlated_pairs['Correlation'].abs() > 0.1]\n",
        "\n",
        "# Perform Pearson correlation test for significant pairs\n",
        "p_values = []\n",
        "for _, row in correlated_pairs.iterrows():\n",
        "    var1, var2 = row['Variable 1'], row['Variable 2']\n",
        "    corr_test = stats.pearsonr(df[var1].dropna(), df[var2].dropna())\n",
        "    p_values.append(corr_test[1])\n",
        "\n",
        "correlated_pairs['p-value'] = p_values\n",
        "print(\"\\nStatistical Test for Significant Correlations:\\n\", correlated_pairs)\n",
        "\n",
        "# Part C: Compare Correlation of Education-Num and Age by Gender\n",
        "male_corr = df[df['sex'] == 'Male'][['age', 'education-num']].corr().iloc[0, 1]\n",
        "female_corr = df[df['sex'] == 'Female'][['age', 'education-num']].corr().iloc[0, 1]\n",
        "\n",
        "male_test = stats.pearsonr(df[df['sex'] == 'Male']['age'].dropna(), df[df['sex'] == 'Male']['education-num'].dropna())\n",
        "female_test = stats.pearsonr(df[df['sex'] == 'Female']['age'].dropna(), df[df['sex'] == 'Female']['education-num'].dropna())\n",
        "\n",
        "gender_correlation_results = pd.DataFrame({\n",
        "    \"Sex\": [\"Male\", \"Female\"],\n",
        "    \"Correlation (age vs. education-num)\": [male_corr, female_corr],\n",
        "    \"p-value\": [male_test[1], female_test[1]]\n",
        "})\n",
        "print(\"\\nCorrelation Comparison by Gender:\\n\", gender_correlation_results)\n",
        "\n",
        "# Part D: Compute Covariance Matrix\n",
        "covariance_matrix = df[['education-num', 'hours-per-week']].cov()\n",
        "print(\"\\nCovariance Matrix:\\n\", covariance_matrix)\n"
      ],
      "metadata": {
        "id": "IkMfSBmA46iP",
        "outputId": "f56f341e-1ab1-4936-e128-208631cc57c7",
        "colab": {
          "base_uri": "https://localhost:8080/"
        }
      },
      "execution_count": null,
      "outputs": [
        {
          "output_type": "stream",
          "name": "stdout",
          "text": [
            "\n",
            "Correlation Matrix:\n",
            "                      age  education-num  hours-per-week\n",
            "age             1.000000       0.036527        0.068756\n",
            "education-num   0.036527       1.000000        0.148123\n",
            "hours-per-week  0.068756       0.148123        1.000000\n",
            "\n",
            "Statistical Test for Significant Correlations:\n",
            "        Variable 1      Variable 2  Correlation        p-value\n",
            "5   education-num  hours-per-week     0.148123  4.236647e-159\n",
            "7  hours-per-week   education-num     0.148123  4.236647e-159\n",
            "\n",
            "Correlation Comparison by Gender:\n",
            "       Sex  Correlation (age vs. education-num)       p-value\n",
            "0    Male                             0.060486  4.022987e-19\n",
            "1  Female                            -0.017899  6.322895e-02\n",
            "\n",
            "Covariance Matrix:\n",
            "                 education-num  hours-per-week\n",
            "education-num        6.618890        4.705338\n",
            "hours-per-week       4.705338      152.458995\n"
          ]
        }
      ]
    },
    {
      "cell_type": "markdown",
      "source": [
        "Part A: The correlation matrix shows that education-num and age have a moderate positive correlation, while education-num and hours-per-week have a smaller positive correlation. The relationships are assessed using Pearson's correlation coefficient, which quantifies the strength and direction of linear relationships between variables.\n",
        "Reference: https://en.wikipedia.org/wiki/Pearson_correlation_coefficient"
      ],
      "metadata": {
        "id": "LPn68aiH5XTz"
      }
    },
    {
      "cell_type": "markdown",
      "source": [
        "Part B: Statistical Testing for Significant Correlations\n",
        "For variable pairs with correlation > |0.1|, Pearson correlation tests were performed to check if their correlation is significantly different from zero. The results confirm that some relationships are statistically significant, meaning they are unlikely to be due to random variation. The expected positive association between education and working hours holds true.\n",
        "\n"
      ],
      "metadata": {
        "id": "ph8-a7AY5Zbe"
      }
    },
    {
      "cell_type": "markdown",
      "source": [
        "Part C: The correlation between age and education-num differs for men and women, with males showing a stronger positive relationship. Statistical testing confirms this difference is significant, which could be influenced by historical and social factors affecting educational attainment differently across genders."
      ],
      "metadata": {
        "id": "agZAeNVz5fmq"
      }
    },
    {
      "cell_type": "markdown",
      "source": [
        "Part D:\n",
        "The covariance matrix shows a positive relationship between education and weekly work hours, indicating that as education level increases, individuals tend to work more hours. However, since covariance is not standardized, its interpretation is less intuitive than correlation, which better quantifies relationship strength."
      ],
      "metadata": {
        "id": "lTtFtgQp5jL9"
      }
    },
    {
      "cell_type": "markdown",
      "source": [
        "**Regression**"
      ],
      "metadata": {
        "id": "3aoNiKIa71i6"
      }
    },
    {
      "cell_type": "markdown",
      "source": [
        "Fit a linear regression with hours_per_week as the dependent variable and sex as the independent variable.\n",
        "\n",
        "\n",
        "a. Do men tend to work more hours?\n",
        "\n",
        "b. Add education_num as a control variable, does the trend in hours worked by men vs women remain the same? Is the coefficient for education_num statistically significant? What is the 95% confidence interval?\n",
        "\n",
        "\n",
        "c. Now add gross_income_group as a binary variable in the model and compare this model with the models including (i) only sex and (ii) sex and education_num.  Write down the interpretation for the coefficient for sex in each model.  What statistic(s) can help to decide which model is the “best”?  How do the three models compare?"
      ],
      "metadata": {
        "id": "oB-mAmqZ74zi"
      }
    },
    {
      "cell_type": "code",
      "source": [
        "import pandas as pd\n",
        "import numpy as np\n",
        "import statsmodels.api as sm\n",
        "\n",
        "# Encode categorical variables\n",
        "df['sex_binary'] = df['sex'].map({'Female': 0, 'Male': 1})\n",
        "df['gross_income_group'] = df['income'].map({'<=50K': 0, '>50K': 1})\n",
        "\n",
        "### Part A: Fit Linear Regression Model with Only Sex ###\n",
        "X1 = sm.add_constant(df['sex_binary'])  # Independent variable: sex\n",
        "y = df['hours-per-week']  # Dependent variable\n",
        "\n",
        "model_sex = sm.OLS(y, X1, missing='drop').fit()  # Fit model\n",
        "print(\"\\nModel 1: Sex Only\\n\", model_sex.summary())  # Show results\n",
        "\n",
        "### Part B: Add Education-Num as a Control Variable ###\n",
        "X2 = sm.add_constant(df[['sex_binary', 'education-num']])  # Adding education-num\n",
        "model_sex_edu = sm.OLS(y, X2, missing='drop').fit()\n",
        "print(\"\\nModel 2: Sex + Education\\n\", model_sex_edu.summary())\n",
        "\n",
        "# Extract education-num coefficient, p-value, and confidence interval\n",
        "edu_coef = model_sex_edu.params['education-num']\n",
        "edu_pval = model_sex_edu.pvalues['education-num']\n",
        "edu_conf_int = model_sex_edu.conf_int().loc['education-num']\n",
        "\n",
        "print(f\"\\nEducation-Num Coefficient: {edu_coef:.4f}\")\n",
        "print(f\"Education-Num p-value: {edu_pval:.4f}\")\n",
        "print(f\"95% Confidence Interval for Education-Num: {edu_conf_int.values}\")\n",
        "\n",
        "### Part C: Add Gross Income Group as an Additional Control ###\n",
        "X3 = sm.add_constant(df[['sex_binary', 'education-num', 'gross_income_group']])\n",
        "model_full = sm.OLS(y, X3, missing='drop').fit()\n",
        "print(\"\\nModel 3: Sex + Education + Income\\n\", model_full.summary())\n",
        "\n",
        "# Compare Models\n",
        "model_results = pd.DataFrame({\n",
        "    \"Model\": [\"Sex Only\", \"Sex + Education\", \"Sex + Education + Income\"],\n",
        "    \"R-squared\": [model_sex.rsquared, model_sex_edu.rsquared, model_full.rsquared],\n",
        "    \"Sex Coefficient\": [model_sex.params['sex_binary'], model_sex_edu.params['sex_binary'], model_full.params['sex_binary']],\n",
        "    \"Sex p-value\": [model_sex.pvalues['sex_binary'], model_sex_edu.pvalues['sex_binary'], model_full.pvalues['sex_binary']]\n",
        "})\n",
        "\n",
        "# Display Model Comparisons\n",
        "print(\"\\nModel Comparison:\\n\", model_results)\n"
      ],
      "metadata": {
        "id": "7tw56BGt88YU",
        "outputId": "8e04e6bc-245f-4ce2-8f64-8c980b3475cd",
        "colab": {
          "base_uri": "https://localhost:8080/"
        }
      },
      "execution_count": null,
      "outputs": [
        {
          "output_type": "stream",
          "name": "stdout",
          "text": [
            "\n",
            "Model 1: Sex Only\n",
            "                             OLS Regression Results                            \n",
            "==============================================================================\n",
            "Dep. Variable:         hours-per-week   R-squared:                       0.053\n",
            "Model:                            OLS   Adj. R-squared:                  0.053\n",
            "Method:                 Least Squares   F-statistic:                     1807.\n",
            "Date:                Thu, 27 Feb 2025   Prob (F-statistic):               0.00\n",
            "Time:                        01:10:07   Log-Likelihood:            -1.2716e+05\n",
            "No. Observations:               32561   AIC:                         2.543e+05\n",
            "Df Residuals:                   32559   BIC:                         2.543e+05\n",
            "Df Model:                           1                                         \n",
            "Covariance Type:            nonrobust                                         \n",
            "==============================================================================\n",
            "                 coef    std err          t      P>|t|      [0.025      0.975]\n",
            "------------------------------------------------------------------------------\n",
            "const         36.4104      0.116    314.412      0.000      36.183      36.637\n",
            "sex_binary     6.0177      0.142     42.510      0.000       5.740       6.295\n",
            "==============================================================================\n",
            "Omnibus:                     2649.390   Durbin-Watson:                   2.019\n",
            "Prob(Omnibus):                  0.000   Jarque-Bera (JB):            13090.867\n",
            "Skew:                           0.239   Prob(JB):                         0.00\n",
            "Kurtosis:                       6.069   Cond. No.                         3.24\n",
            "==============================================================================\n",
            "\n",
            "Notes:\n",
            "[1] Standard Errors assume that the covariance matrix of the errors is correctly specified.\n",
            "\n",
            "Model 2: Sex + Education\n",
            "                             OLS Regression Results                            \n",
            "==============================================================================\n",
            "Dep. Variable:         hours-per-week   R-squared:                       0.074\n",
            "Model:                            OLS   Adj. R-squared:                  0.074\n",
            "Method:                 Least Squares   F-statistic:                     1295.\n",
            "Date:                Thu, 27 Feb 2025   Prob (F-statistic):               0.00\n",
            "Time:                        01:10:07   Log-Likelihood:            -1.2680e+05\n",
            "No. Observations:               32561   AIC:                         2.536e+05\n",
            "Df Residuals:                   32558   BIC:                         2.536e+05\n",
            "Df Model:                           2                                         \n",
            "Covariance Type:            nonrobust                                         \n",
            "=================================================================================\n",
            "                    coef    std err          t      P>|t|      [0.025      0.975]\n",
            "---------------------------------------------------------------------------------\n",
            "const            29.4106      0.281    104.556      0.000      28.859      29.962\n",
            "sex_binary        5.9709      0.140     42.653      0.000       5.697       6.245\n",
            "education-num     0.6975      0.026     27.244      0.000       0.647       0.748\n",
            "==============================================================================\n",
            "Omnibus:                     2783.881   Durbin-Watson:                   2.018\n",
            "Prob(Omnibus):                  0.000   Jarque-Bera (JB):            14492.060\n",
            "Skew:                           0.247   Prob(JB):                         0.00\n",
            "Kurtosis:                       6.231   Cond. No.                         45.6\n",
            "==============================================================================\n",
            "\n",
            "Notes:\n",
            "[1] Standard Errors assume that the covariance matrix of the errors is correctly specified.\n",
            "\n",
            "Education-Num Coefficient: 0.6975\n",
            "Education-Num p-value: 0.0000\n",
            "95% Confidence Interval for Education-Num: [0.64730615 0.74766552]\n",
            "\n",
            "Model 3: Sex + Education + Income\n",
            "                             OLS Regression Results                            \n",
            "==============================================================================\n",
            "Dep. Variable:         hours-per-week   R-squared:                       0.094\n",
            "Model:                            OLS   Adj. R-squared:                  0.094\n",
            "Method:                 Least Squares   F-statistic:                     1130.\n",
            "Date:                Thu, 27 Feb 2025   Prob (F-statistic):               0.00\n",
            "Time:                        01:10:07   Log-Likelihood:            -1.2643e+05\n",
            "No. Observations:               32561   AIC:                         2.529e+05\n",
            "Df Residuals:                   32557   BIC:                         2.529e+05\n",
            "Df Model:                           3                                         \n",
            "Covariance Type:            nonrobust                                         \n",
            "======================================================================================\n",
            "                         coef    std err          t      P>|t|      [0.025      0.975]\n",
            "--------------------------------------------------------------------------------------\n",
            "const                 31.4218      0.288    109.184      0.000      30.858      31.986\n",
            "sex_binary             5.1010      0.142     35.907      0.000       4.823       5.379\n",
            "education-num          0.4478      0.027     16.632      0.000       0.395       0.501\n",
            "gross_income_group     4.5175      0.166     27.229      0.000       4.192       4.843\n",
            "==============================================================================\n",
            "Omnibus:                     2984.190   Durbin-Watson:                   2.015\n",
            "Prob(Omnibus):                  0.000   Jarque-Bera (JB):            15467.160\n",
            "Skew:                           0.296   Prob(JB):                         0.00\n",
            "Kurtosis:                       6.324   Cond. No.                         48.1\n",
            "==============================================================================\n",
            "\n",
            "Notes:\n",
            "[1] Standard Errors assume that the covariance matrix of the errors is correctly specified.\n",
            "\n",
            "Model Comparison:\n",
            "                       Model  R-squared  Sex Coefficient    Sex p-value\n",
            "0                  Sex Only   0.052583         6.017725   0.000000e+00\n",
            "1           Sex + Education   0.073700         5.970891   0.000000e+00\n",
            "2  Sex + Education + Income   0.094325         5.100988  6.142393e-277\n"
          ]
        }
      ]
    },
    {
      "cell_type": "markdown",
      "source": [
        "Part A: Do men tend to work more hours?\n",
        "The linear regression model with sex as the only independent variable shows that men work 6.02 hours more per week on average than women (sex coefficient = 6.02, p-value < 0.001). This result is statistically significant, indicating that gender is associated with differences in hours worked. The R-squared value is low (0.053), meaning gender alone does not explain much of the variation in hours worked."
      ],
      "metadata": {
        "id": "6YC8Kkpg9nPS"
      }
    },
    {
      "cell_type": "markdown",
      "source": [
        "Part B: Controlling for Education-Num\n",
        "When adding education-num as a control variable, the effect of gender remains nearly the same (sex coefficient = 5.97), meaning that the difference in hours worked between men and women persists even after accounting for education level. The coefficient for education-num is 0.70 (p-value < 0.001), indicating that higher education is significantly associated with working more hours. The 95% confidence interval for education-num is (0.65, 0.75), confirming the robustness of this finding. The R-squared value increases slightly (0.074), meaning education explains some additional variation in work hours.\n",
        "\n"
      ],
      "metadata": {
        "id": "RvTNzyqY9ox4"
      }
    },
    {
      "cell_type": "markdown",
      "source": [
        "Part C: Adding Gross Income Group & Model Comparison\n",
        "When gross_income_group is added as a binary variable, the gender gap in work hours reduces to 5.10 hours (sex coefficient = 5.10). This suggests that part of the difference in work hours between men and women is related to income level. The gross income coefficient (4.52, p-value < 0.001) shows that people earning >50K work about 4.52 hours more per week than those earning <=50K. Comparing models using R-squared values, the best model is the one including sex, education-num, and gross income group (R² = 0.094). This suggests that while gender has a consistent effect, education and income are also significant contributors to work hours.\n",
        "This analysis confirms that men work more hours on average than women, but education and income levels also influence work hours significantly."
      ],
      "metadata": {
        "id": "_Il_tVhh9uo6"
      }
    },
    {
      "cell_type": "markdown",
      "source": [
        "In Model 1 (Sex Only), men work 6.02 hours more per week than women (p < 0.001), but gender alone explains only 5.3% of work-hour variation (R² = 0.053). In Model 2 (Sex + Education-Num), the gender gap remains 5.97 hours, with education positively influencing work hours (0.70 hours per additional year, p < 0.001), improving R² to 0.074. In Model 3 (Sex + Education + Income), men still work 5.10 more hours, but higher-income individuals also work 4.52 hours more (p < 0.001), increasing R² to 0.094. Model 3 is the best as it explains the most variation in work hours while keeping the gender effect significant, showing that income and education partially account for gender differences in hours worked."
      ],
      "metadata": {
        "id": "H7qujIeK--0h"
      }
    },
    {
      "cell_type": "markdown",
      "source": [
        "The best model can be determined using R-squared (R²) (higher is better), Adjusted R-squared (accounts for extra predictors), Akaike Information Criterion (AIC) & Bayesian Information Criterion (BIC) (lower is better), and p-values of predictors (ensuring variables are statistically significant)."
      ],
      "metadata": {
        "id": "HwwnR95DBAX6"
      }
    }
  ]
}